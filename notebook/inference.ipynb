{
 "cells": [
  {
   "cell_type": "code",
   "execution_count": 1,
   "metadata": {},
   "outputs": [
    {
     "name": "stderr",
     "output_type": "stream",
     "text": [
      "/Users/memray/Project/anaconda3/lib/python3.6/site-packages/sklearn/externals/joblib/__init__.py:15: FutureWarning: sklearn.externals.joblib is deprecated in 0.21 and will be removed in 0.23. Please import this functionality directly from joblib, which can be installed with: pip install joblib. If this warning is raised when loading pickled models, you may need to re-serialize those models with scikit-learn 0.21+.\n",
      "  warnings.warn(msg, category=FutureWarning)\n"
     ]
    }
   ],
   "source": [
    "exec('from __future__ import unicode_literals')\n",
    "\n",
    "import os\n",
    "import sys\n",
    "import random\n",
    "import json\n",
    "\n",
    "module_path = os.path.abspath(os.path.join('../'))\n",
    "if module_path not in sys.path:\n",
    "    sys.path.append(module_path)\n",
    "module_path = os.path.abspath(os.path.join('../onmt'))\n",
    "if module_path not in sys.path:\n",
    "    sys.path.append(module_path)\n",
    "\n",
    "from itertools import repeat\n",
    "\n",
    "from onmt.utils.logging import init_logger\n",
    "from onmt.utils.misc import split_corpus\n",
    "import onmt.translate.translator as translator\n",
    "\n",
    "import onmt.opts as opts\n",
    "from onmt.utils.parse import ArgumentParser\n",
    "from kp_gen_eval import _get_parser\n",
    "\n",
    "\n",
    "from nltk.corpus import stopwords\n",
    "stoplist = stopwords.words('english')\n",
    "\n",
    "from string import punctuation\n",
    "import onmt.keyphrase.pke as pke\n",
    "from nltk.corpus import stopwords\n",
    "\n",
    "import onmt.keyphrase.kp_inference as kp_inference"
   ]
  },
  {
   "cell_type": "code",
   "execution_count": 2,
   "metadata": {},
   "outputs": [
    {
     "data": {
      "text/plain": [
       "<module 'onmt.translate.translator' from '/Users/memray/project/kp/OpenNMT-kpg-release/onmt/translate/translator.py'>"
      ]
     },
     "execution_count": 2,
     "metadata": {},
     "output_type": "execute_result"
    }
   ],
   "source": [
    "import importlib\n",
    "importlib.reload(kp_inference)\n",
    "importlib.reload(translator)"
   ]
  },
  {
   "cell_type": "markdown",
   "metadata": {},
   "source": [
    "### Load a text (assume current directory is OpenNMT-kpg/notebook/)"
   ]
  },
  {
   "cell_type": "code",
   "execution_count": 3,
   "metadata": {
    "scrolled": true
   },
   "outputs": [
    {
     "name": "stdout",
     "output_type": "stream",
     "text": [
      "Loaded #(docs)=308\n"
     ]
    }
   ],
   "source": [
    "data_root_path = '../data/keyphrase/json/duc/duc_test.json'\n",
    "doc_dicts = []\n",
    "with open(data_root_path, 'r') as data_file:\n",
    "    doc_dicts = [json.loads(l) for l in data_file]\n",
    "        \n",
    "print('Loaded #(docs)=%d' % (len(doc_dicts)))"
   ]
  },
  {
   "cell_type": "markdown",
   "metadata": {},
   "source": [
    "##### Sample a paragraph"
   ]
  },
  {
   "cell_type": "code",
   "execution_count": 4,
   "metadata": {
    "scrolled": true
   },
   "outputs": [
    {
     "name": "stdout",
     "output_type": "stream",
     "text": [
      "dict_keys(['name', 'title', 'abstract', 'fulltext', 'keywords'])\n",
      "87\n",
      "Drugs are now available that can put AIDS patients into remission, and recent advances have made clear that a vaccine to protect against AIDS infection is possible, a panel of AIDS experts said Saturday. At the same time, however, the AIDS epidemic is being followed by a suddenly resurgent epidemic of tuberculosis, the scientists said. ``We have now made demonstrable first steps in inducing remission,'' said William Haseltine of the Dana-Farber Cancer Institute in Boston. ``I think there is evidence that a substantial number of people who would have died are now alive,'' Haseltine said at the annual meeting of the American Association for the Advancement of Science. He cautioned against a premature conclusion that the AIDS epidemic may be coming to an end. A number of treatments for AIDS and AIDS-related infections are available, he said, but many of them are not available to the poor or to developing countries. ``It looks like most of these will be expensive, hard to deliver and require monitoring,'' Haseltine said. ``Unless we develop a vaccine, the future of this epidemic worldwide will be extremely grim,'' he said. A year ago, the prospects for an AIDS vaccine looked doubtful, said James Mullins of Stanford University. But that has changed. ``There has been a transition in the effort to find a vaccine,'' Mullins said. Vaccines to protect animals against AIDS-related viruses have shown some success, he said, encouraging researchers to believe that similar vaccines can be found for humans. ``There's new hope and interest that a vaccine is possible,'' said John McGowan of the National Institute of Allergy and Infectious Diseases in Bethesda, Md. Sten Vermund, also of the Allergy Institute, noted that an epidemic of tuberculosis is emerging in AIDS patients in the inner cities. In New York City, for example, tuberculosis declined between 1960 and 1977, but is now increasing and has reached the 1960 level again. ``We anticipate in our major cities losing two decades of progress in our tuberculosis control efforts,'' said Vermund. And unlike the AIDS virus, which cannot be transmitted through casual contact, tuberculosis is easily transmitted through the air. ``I think we should worry about tuberculosis and the risk to the general population,'' Vermund said. Many of the cases of tuberculosis are occurring when individuals who were exposed to tuberculosis early in life contract AIDS. They lose the ability to continue suppressing the tuberculosis bacteria, which normally would have remained dormant, and tuberculosis appears. ``It's likely to be yet another health problem imposed on the inner cities, where the health problems are already legion,'' Vermund said. There is no strong evidence yet that tuberculosis is spreading to a significant number of poeple who do not have AIDS, but that is likely, Vermund said. He said the rise in tuberculosis began before the AIDS epidemic, probably because of the rise in the homeless population during the 1970s. Homeless people are at elevated risk of tuberculosis, Vermund said.\n"
     ]
    }
   ],
   "source": [
    "doc_id = random.randint(0, len(doc_dicts))\n",
    "doc = doc_dicts[doc_id]\n",
    "print(doc.keys())\n",
    "text_to_extract = doc['abstract']\n",
    "print(doc_id)\n",
    "print(text_to_extract)\n"
   ]
  },
  {
   "cell_type": "markdown",
   "metadata": {},
   "source": [
    "### Supervised Deep Keyphrase Model"
   ]
  },
  {
   "cell_type": "code",
   "execution_count": 5,
   "metadata": {},
   "outputs": [],
   "source": [
    "parser = _get_parser()\n",
    "config_path = '../config/translate/config-rnn-keyphrase.yml'\n",
    "one2one_ckpt_path = '../models/keyphrase/meng17-one2one-kp20k-topmodels/kp20k-meng17-one2one-rnn-BS128-LR0.05-Layer1-Dim150-Emb100-Dropout0.0-Copytrue-Covfalse-Contboth-IF1_step_30000.pt'\n",
    "one2seq_ckpt_path = '../models/keyphrase/meng17-one2seq-kp20k-topmodels/kp20k-meng17-verbatim_append-rnn-BS64-LR0.05-Layer1-Dim150-Emb100-Dropout0.0-Copytrue-Reusetrue-Covtrue-PEfalse-Contboth-IF1_step_50000.pt'\n",
    "opt = parser.parse_args('-config %s' % (config_path))\n",
    "setattr(opt, 'models', [one2one_ckpt_path])\n",
    "\n",
    "translator = translator.build_translator(opt, report_score=False)"
   ]
  },
  {
   "cell_type": "code",
   "execution_count": 6,
   "metadata": {},
   "outputs": [
    {
     "name": "stderr",
     "output_type": "stream",
     "text": [
      "/Users/memray/Project/anaconda3/lib/python3.6/site-packages/torchtext/data/field.py:359: UserWarning: To copy construct from a tensor, it is recommended to use sourceTensor.clone().detach() or sourceTensor.clone().detach().requires_grad_(True), rather than torch.tensor(sourceTensor).\n",
      "  var = torch.tensor(arr, dtype=self.dtype, device=device)\n"
     ]
    },
    {
     "name": "stdout",
     "output_type": "stream",
     "text": [
      "Translating 10/1\n"
     ]
    },
    {
     "name": "stderr",
     "output_type": "stream",
     "text": [
      "/Users/memray/project/kp/OpenNMT-kpg-release/onmt/translate/beam_search.py:226: UserWarning: This overload of nonzero is deprecated:\n",
      "\tnonzero()\n",
      "Consider using one of the following signatures instead:\n",
      "\tnonzero(*, bool as_tuple) (Triggered internally at  /Users/distiller/project/conda/conda-bld/pytorch_1595629444482/work/torch/csrc/utils/python_arg_parser.cpp:766.)\n",
      "  finished_hyp = self.is_finished[i].nonzero().view(-1)\n"
     ]
    },
    {
     "name": "stdout",
     "output_type": "stream",
     "text": [
      "Total translation time (s): 0.635809\n",
      "Average translation time (s): 0.635809\n",
      "Tokens per second: 1.572799\n",
      "Paragraph:\n",
      "\tDrugs are now available that can put AIDS patients into remission, and recent advances have made clear that a vaccine to protect against AIDS infection is possible, a panel of AIDS experts said Saturday. At the same time, however, the AIDS epidemic is being followed by a suddenly resurgent epidemic of tuberculosis, the scientists said. ``We have now made demonstrable first steps in inducing remission,'' said William Haseltine of the Dana-Farber Cancer Institute in Boston. ``I think there is evidence that a substantial number of people who would have died are now alive,'' Haseltine said at the annual meeting of the American Association for the Advancement of Science. He cautioned against a premature conclusion that the AIDS epidemic may be coming to an end. A number of treatments for AIDS and AIDS-related infections are available, he said, but many of them are not available to the poor or to developing countries. ``It looks like most of these will be expensive, hard to deliver and require monitoring,'' Haseltine said. ``Unless we develop a vaccine, the future of this epidemic worldwide will be extremely grim,'' he said. A year ago, the prospects for an AIDS vaccine looked doubtful, said James Mullins of Stanford University. But that has changed. ``There has been a transition in the effort to find a vaccine,'' Mullins said. Vaccines to protect animals against AIDS-related viruses have shown some success, he said, encouraging researchers to believe that similar vaccines can be found for humans. ``There's new hope and interest that a vaccine is possible,'' said John McGowan of the National Institute of Allergy and Infectious Diseases in Bethesda, Md. Sten Vermund, also of the Allergy Institute, noted that an epidemic of tuberculosis is emerging in AIDS patients in the inner cities. In New York City, for example, tuberculosis declined between 1960 and 1977, but is now increasing and has reached the 1960 level again. ``We anticipate in our major cities losing two decades of progress in our tuberculosis control efforts,'' said Vermund. And unlike the AIDS virus, which cannot be transmitted through casual contact, tuberculosis is easily transmitted through the air. ``I think we should worry about tuberculosis and the risk to the general population,'' Vermund said. Many of the cases of tuberculosis are occurring when individuals who were exposed to tuberculosis early in life contract AIDS. They lose the ability to continue suppressing the tuberculosis bacteria, which normally would have remained dormant, and tuberculosis appears. ``It's likely to be yet another health problem imposed on the inner cities, where the health problems are already legion,'' Vermund said. There is no strong evidence yet that tuberculosis is spreading to a significant number of poeple who do not have AIDS, but that is likely, Vermund said. He said the rise in tuberculosis began before the AIDS epidemic, probably because of the rise in the homeless population during the 1970s. Homeless people are at elevated risk of tuberculosis, Vermund said.\n",
      "Top predictions:\n",
      "\t1: vaccine\n",
      "\t2: AIDS\n",
      "\t3: tuberculosis\n",
      "\t4: Drugs\n",
      "\t5: said.\n",
      "\t6: Allergy\n",
      "\t7: epidemic\n",
      "\t8: AIDS-related\n",
      "\t9: example,\n",
      "\t10: vaccines\n",
      "\t11: Haseltine\n",
      "\t12: Bethesda,\n",
      "\t13: remission,\n",
      "\t14: Stanford\n",
      "\t15: said,\n",
      "\t16: Infectious\n",
      "\t17: Boston.\n",
      "\t18: Dana-Farber\n",
      "\t19: Science.\n",
      "\t20: National\n"
     ]
    }
   ],
   "source": [
    "scores, predictions = translator.translate(\n",
    "    src=[text_to_extract],\n",
    "    tgt=None,\n",
    "    src_dir=opt.src_dir,\n",
    "    batch_size=opt.batch_size,\n",
    "    attn_debug=opt.attn_debug,\n",
    "    opt=opt\n",
    ")\n",
    "print('Paragraph:\\n\\t'+text_to_extract)\n",
    "print('Top predictions:')\n",
    "keyphrases = [kp.strip() for kp in predictions[0] if (not kp.lower().strip() in stoplist) and (kp != '<unk>' )]\n",
    "for kp_id, kp in enumerate(keyphrases[: min(len(keyphrases), 20)]):\n",
    "    print('\\t%d: %s' % (kp_id+1, kp))"
   ]
  },
  {
   "cell_type": "markdown",
   "metadata": {},
   "source": [
    "### PKE models"
   ]
  },
  {
   "cell_type": "markdown",
   "metadata": {},
   "source": [
    "#### TF-IDF"
   ]
  },
  {
   "cell_type": "code",
   "execution_count": 3,
   "metadata": {},
   "outputs": [
    {
     "name": "stdout",
     "output_type": "stream",
     "text": [
      "\t1: anything (0.0000)\n",
      "\t2: anything that (0.0000)\n",
      "\t3: anything that threatens (0.0000)\n",
      "\t4: that (0.0000)\n",
      "\t5: that threatens (0.0000)\n",
      "\t6: threatens (0.0000)\n",
      "\t7: company (0.0000)\n",
      "\t8: ability (0.0000)\n",
      "\t9: ability to (0.0000)\n",
      "\t10: ability to meet (0.0000)\n",
      "\t11: to meet (0.0000)\n",
      "\t12: to meet its (0.0000)\n",
      "\t13: meet (0.0000)\n",
      "\t14: meet its (0.0000)\n",
      "\t15: meet its target (0.0000)\n",
      "\t16: its (0.0000)\n",
      "\t17: its target (0.0000)\n",
      "\t18: its target or (0.0000)\n",
      "\t19: target (0.0000)\n",
      "\t20: target or (0.0000)\n"
     ]
    }
   ],
   "source": [
    "dataset_name = 'test'\n",
    "dataset_path = '../data/%s/' % dataset_name\n",
    "_ = kp_inference.extract_pke(text_to_extract, method='tfidf' , dataset_path=dataset_path,\n",
    "            df_path=os.path.abspath(dataset_path + '../%s.df.tsv.gz' % dataset_name), top_k=20)"
   ]
  },
  {
   "cell_type": "markdown",
   "metadata": {},
   "source": [
    "#### YAKE"
   ]
  },
  {
   "cell_type": "code",
   "execution_count": 4,
   "metadata": {
    "scrolled": true
   },
   "outputs": [
    {
     "name": "stdout",
     "output_type": "stream",
     "text": [
      "\t1: called business risk (0.0331)\n",
      "\t2: financial goals (0.0332)\n",
      "\t3: called business (0.0632)\n",
      "\t4: business risk (0.0830)\n",
      "\t5: risk (0.1075)\n",
      "\t6: company (0.1209)\n",
      "\t7: anything (0.1383)\n",
      "\t8: ability (0.1383)\n",
      "\t9: risks may come (0.1415)\n",
      "\t10: business (0.1657)\n",
      "\t11: may (0.1765)\n",
      "\t12: threatens (0.1793)\n",
      "\t13: meet (0.1793)\n",
      "\t14: target (0.1793)\n",
      "\t15: achieve (0.1793)\n",
      "\t16: financial (0.1793)\n",
      "\t17: goals (0.1793)\n",
      "\t18: called (0.1793)\n",
      "\t19: risk management strategy (0.1844)\n",
      "\t20: anything that threatens (0.1851)\n"
     ]
    }
   ],
   "source": [
    "_ = kp_inference.extract_pke(text_to_extract, method='yake', top_k=20)"
   ]
  },
  {
   "cell_type": "markdown",
   "metadata": {},
   "source": [
    "#### TextRank"
   ]
  },
  {
   "cell_type": "code",
   "execution_count": 5,
   "metadata": {},
   "outputs": [
    {
     "name": "stderr",
     "output_type": "stream",
     "text": [
      "WARNING:root:Candidates are generated using 0.33-top\n",
      "WARNING:root:Not enough candidates to choose from (10 requested, 6 given)\n"
     ]
    },
    {
     "name": "stdout",
     "output_type": "stream",
     "text": [
      "\t1: risk management (0.1901)\n",
      "\t2: company head (0.1464)\n",
      "\t3: financial goals (0.1464)\n",
      "\t4: risk (0.0950)\n",
      "\t5: sources (0.0732)\n",
      "\t6: company (0.0732)\n"
     ]
    }
   ],
   "source": [
    "# define the set of valid Part-of-Speeches\n",
    "pos = {'NOUN', 'PROPN', 'ADJ'}\n",
    "\n",
    "# 1. create a TextRank extractor.\n",
    "extractor = pke.unsupervised.TextRank()\n",
    "\n",
    "# 2. load the content of the document.\n",
    "extractor.load_document(input=text_to_extract,\n",
    "                        language='en_core_web_sm',\n",
    "                        normalization=None)\n",
    "\n",
    "# 3. build the graph representation of the document and rank the words.\n",
    "#    Keyphrase candidates are composed from the 33-percent\n",
    "#    highest-ranked words.\n",
    "extractor.candidate_weighting(window=2,\n",
    "                              pos=pos,\n",
    "                              top_percent=0.33)\n",
    "\n",
    "# 4. get the 10-highest scored candidates as keyphrases\n",
    "keyphrases = extractor.get_n_best(n=10)\n",
    "for kp_id, kp in enumerate(keyphrases):\n",
    "    print('\\t%d: %s (%.4f)' % (kp_id+1, kp[0], kp[1]))"
   ]
  }
 ],
 "metadata": {
  "kernelspec": {
   "display_name": "Python 3",
   "language": "python",
   "name": "python3"
  },
  "language_info": {
   "codemirror_mode": {
    "name": "ipython",
    "version": 3
   },
   "file_extension": ".py",
   "mimetype": "text/x-python",
   "name": "python",
   "nbconvert_exporter": "python",
   "pygments_lexer": "ipython3",
   "version": "3.6.1"
  },
  "pycharm": {
   "stem_cell": {
    "cell_type": "raw",
    "metadata": {
     "collapsed": false
    },
    "source": []
   }
  }
 },
 "nbformat": 4,
 "nbformat_minor": 2
}
